{
 "cells": [
  {
   "cell_type": "markdown",
   "metadata": {},
   "source": [
    "# Introduction"
   ]
  },
  {
   "cell_type": "markdown",
   "metadata": {},
   "source": [
    "Fortunately, with libraries such as Scikit-Learn, it’s now easy to build and use almost any machine learning algorithm. But it’s helpful to have an idea of how a machine learning model works under the hood. This lets us diagnose the model when it’s underperforming or explain how it makes decisions, which is crucial if we want to convince others to trust our models.\n",
    "In this assignment, we’ll look at how to build and use the Decision Tree and the Random Forest in Python. We’ll start by understanding how a single decision tree makes classifications on a simple problem. Then, we’ll work our way to using a random forest on a real-world data science problem."
   ]
  },
  {
   "cell_type": "markdown",
   "metadata": {},
   "source": [
    "# Dataset"
   ]
  },
  {
   "cell_type": "markdown",
   "metadata": {},
   "source": [
    "The dataset we will use in this assignment is the Sonar dataset.\n",
    "\n",
    "This is a dataset that describes sonar chirp returns bouncing off different surfaces. The 60 predictors are the strength of the returns at different angles. It is a binary classification problem that requires a model to differentiate rocks from metal cylinders. There are 208 observations.\n",
    "\n",
    "It is a well-understood dataset. All of the variables are continuous and generally in the range of 0 to 1. The output variable is a string “M” for mine and “R” for rock, which will need to be converted to integers 1 and 0.\n",
    "\n",
    "By predicting the class with the most observations in the dataset (M or mines) the Zero Rule Algorithm can achieve an accuracy of 53%.\n",
    "\n",
    "You can learn more about this dataset at the UCI Machine Learning repository.\n",
    "https://archive.ics.uci.edu/ml/datasets/Connectionist+Bench+(Sonar,+Mines+vs.+Rocks)\n",
    "\n",
    "Download the dataset for free and place it in the \"data\" folder in your working directory with the filename sonar.all-data.csv."
   ]
  },
  {
   "cell_type": "markdown",
   "metadata": {},
   "source": [
    "# Import section"
   ]
  },
  {
   "cell_type": "code",
   "execution_count": 1,
   "metadata": {
    "ExecuteTime": {
     "end_time": "2020-12-01T08:48:35.022113Z",
     "start_time": "2020-12-01T08:48:34.335814Z"
    }
   },
   "outputs": [],
   "source": [
    "import random\n",
    "import numpy as np\n",
    "import pandas as pd\n",
    "from sklearn.model_selection import train_test_split\n",
    "from sklearn.metrics import accuracy_score\n",
    "\n",
    "np.random.seed(2020)\n",
    "random.seed(2020)"
   ]
  },
  {
   "cell_type": "markdown",
   "metadata": {},
   "source": [
    "# Preprocess data"
   ]
  },
  {
   "cell_type": "markdown",
   "metadata": {},
   "source": [
    "Read data and convert targets to integers 1 and 0."
   ]
  },
  {
   "cell_type": "code",
   "execution_count": 2,
   "metadata": {
    "ExecuteTime": {
     "end_time": "2020-12-01T08:48:35.618412Z",
     "start_time": "2020-12-01T08:48:35.579547Z"
    }
   },
   "outputs": [
    {
     "data": {
      "text/html": [
       "<div>\n",
       "<style scoped>\n",
       "    .dataframe tbody tr th:only-of-type {\n",
       "        vertical-align: middle;\n",
       "    }\n",
       "\n",
       "    .dataframe tbody tr th {\n",
       "        vertical-align: top;\n",
       "    }\n",
       "\n",
       "    .dataframe thead th {\n",
       "        text-align: right;\n",
       "    }\n",
       "</style>\n",
       "<table border=\"1\" class=\"dataframe\">\n",
       "  <thead>\n",
       "    <tr style=\"text-align: right;\">\n",
       "      <th></th>\n",
       "      <th>feat_0</th>\n",
       "      <th>feat_1</th>\n",
       "      <th>feat_2</th>\n",
       "      <th>feat_3</th>\n",
       "      <th>feat_4</th>\n",
       "      <th>feat_5</th>\n",
       "      <th>feat_6</th>\n",
       "      <th>feat_7</th>\n",
       "      <th>feat_8</th>\n",
       "      <th>feat_9</th>\n",
       "      <th>...</th>\n",
       "      <th>feat_51</th>\n",
       "      <th>feat_52</th>\n",
       "      <th>feat_53</th>\n",
       "      <th>feat_54</th>\n",
       "      <th>feat_55</th>\n",
       "      <th>feat_56</th>\n",
       "      <th>feat_57</th>\n",
       "      <th>feat_58</th>\n",
       "      <th>feat_59</th>\n",
       "      <th>target</th>\n",
       "    </tr>\n",
       "  </thead>\n",
       "  <tbody>\n",
       "    <tr>\n",
       "      <th>0</th>\n",
       "      <td>0.0200</td>\n",
       "      <td>0.0371</td>\n",
       "      <td>0.0428</td>\n",
       "      <td>0.0207</td>\n",
       "      <td>0.0954</td>\n",
       "      <td>0.0986</td>\n",
       "      <td>0.1539</td>\n",
       "      <td>0.1601</td>\n",
       "      <td>0.3109</td>\n",
       "      <td>0.2111</td>\n",
       "      <td>...</td>\n",
       "      <td>0.0027</td>\n",
       "      <td>0.0065</td>\n",
       "      <td>0.0159</td>\n",
       "      <td>0.0072</td>\n",
       "      <td>0.0167</td>\n",
       "      <td>0.0180</td>\n",
       "      <td>0.0084</td>\n",
       "      <td>0.0090</td>\n",
       "      <td>0.0032</td>\n",
       "      <td>0</td>\n",
       "    </tr>\n",
       "    <tr>\n",
       "      <th>1</th>\n",
       "      <td>0.0453</td>\n",
       "      <td>0.0523</td>\n",
       "      <td>0.0843</td>\n",
       "      <td>0.0689</td>\n",
       "      <td>0.1183</td>\n",
       "      <td>0.2583</td>\n",
       "      <td>0.2156</td>\n",
       "      <td>0.3481</td>\n",
       "      <td>0.3337</td>\n",
       "      <td>0.2872</td>\n",
       "      <td>...</td>\n",
       "      <td>0.0084</td>\n",
       "      <td>0.0089</td>\n",
       "      <td>0.0048</td>\n",
       "      <td>0.0094</td>\n",
       "      <td>0.0191</td>\n",
       "      <td>0.0140</td>\n",
       "      <td>0.0049</td>\n",
       "      <td>0.0052</td>\n",
       "      <td>0.0044</td>\n",
       "      <td>0</td>\n",
       "    </tr>\n",
       "    <tr>\n",
       "      <th>2</th>\n",
       "      <td>0.0262</td>\n",
       "      <td>0.0582</td>\n",
       "      <td>0.1099</td>\n",
       "      <td>0.1083</td>\n",
       "      <td>0.0974</td>\n",
       "      <td>0.2280</td>\n",
       "      <td>0.2431</td>\n",
       "      <td>0.3771</td>\n",
       "      <td>0.5598</td>\n",
       "      <td>0.6194</td>\n",
       "      <td>...</td>\n",
       "      <td>0.0232</td>\n",
       "      <td>0.0166</td>\n",
       "      <td>0.0095</td>\n",
       "      <td>0.0180</td>\n",
       "      <td>0.0244</td>\n",
       "      <td>0.0316</td>\n",
       "      <td>0.0164</td>\n",
       "      <td>0.0095</td>\n",
       "      <td>0.0078</td>\n",
       "      <td>0</td>\n",
       "    </tr>\n",
       "    <tr>\n",
       "      <th>3</th>\n",
       "      <td>0.0100</td>\n",
       "      <td>0.0171</td>\n",
       "      <td>0.0623</td>\n",
       "      <td>0.0205</td>\n",
       "      <td>0.0205</td>\n",
       "      <td>0.0368</td>\n",
       "      <td>0.1098</td>\n",
       "      <td>0.1276</td>\n",
       "      <td>0.0598</td>\n",
       "      <td>0.1264</td>\n",
       "      <td>...</td>\n",
       "      <td>0.0121</td>\n",
       "      <td>0.0036</td>\n",
       "      <td>0.0150</td>\n",
       "      <td>0.0085</td>\n",
       "      <td>0.0073</td>\n",
       "      <td>0.0050</td>\n",
       "      <td>0.0044</td>\n",
       "      <td>0.0040</td>\n",
       "      <td>0.0117</td>\n",
       "      <td>0</td>\n",
       "    </tr>\n",
       "    <tr>\n",
       "      <th>4</th>\n",
       "      <td>0.0762</td>\n",
       "      <td>0.0666</td>\n",
       "      <td>0.0481</td>\n",
       "      <td>0.0394</td>\n",
       "      <td>0.0590</td>\n",
       "      <td>0.0649</td>\n",
       "      <td>0.1209</td>\n",
       "      <td>0.2467</td>\n",
       "      <td>0.3564</td>\n",
       "      <td>0.4459</td>\n",
       "      <td>...</td>\n",
       "      <td>0.0031</td>\n",
       "      <td>0.0054</td>\n",
       "      <td>0.0105</td>\n",
       "      <td>0.0110</td>\n",
       "      <td>0.0015</td>\n",
       "      <td>0.0072</td>\n",
       "      <td>0.0048</td>\n",
       "      <td>0.0107</td>\n",
       "      <td>0.0094</td>\n",
       "      <td>0</td>\n",
       "    </tr>\n",
       "  </tbody>\n",
       "</table>\n",
       "<p>5 rows × 61 columns</p>\n",
       "</div>"
      ],
      "text/plain": [
       "   feat_0  feat_1  feat_2  feat_3  feat_4  feat_5  feat_6  feat_7  feat_8  \\\n",
       "0  0.0200  0.0371  0.0428  0.0207  0.0954  0.0986  0.1539  0.1601  0.3109   \n",
       "1  0.0453  0.0523  0.0843  0.0689  0.1183  0.2583  0.2156  0.3481  0.3337   \n",
       "2  0.0262  0.0582  0.1099  0.1083  0.0974  0.2280  0.2431  0.3771  0.5598   \n",
       "3  0.0100  0.0171  0.0623  0.0205  0.0205  0.0368  0.1098  0.1276  0.0598   \n",
       "4  0.0762  0.0666  0.0481  0.0394  0.0590  0.0649  0.1209  0.2467  0.3564   \n",
       "\n",
       "   feat_9  ...  feat_51  feat_52  feat_53  feat_54  feat_55  feat_56  feat_57  \\\n",
       "0  0.2111  ...   0.0027   0.0065   0.0159   0.0072   0.0167   0.0180   0.0084   \n",
       "1  0.2872  ...   0.0084   0.0089   0.0048   0.0094   0.0191   0.0140   0.0049   \n",
       "2  0.6194  ...   0.0232   0.0166   0.0095   0.0180   0.0244   0.0316   0.0164   \n",
       "3  0.1264  ...   0.0121   0.0036   0.0150   0.0085   0.0073   0.0050   0.0044   \n",
       "4  0.4459  ...   0.0031   0.0054   0.0105   0.0110   0.0015   0.0072   0.0048   \n",
       "\n",
       "   feat_58  feat_59  target  \n",
       "0   0.0090   0.0032       0  \n",
       "1   0.0052   0.0044       0  \n",
       "2   0.0095   0.0078       0  \n",
       "3   0.0040   0.0117       0  \n",
       "4   0.0107   0.0094       0  \n",
       "\n",
       "[5 rows x 61 columns]"
      ]
     },
     "execution_count": 2,
     "metadata": {},
     "output_type": "execute_result"
    }
   ],
   "source": [
    "PATH = 'data/'\n",
    "df = pd.read_csv(PATH+'sonar-all-data.csv', header=None)\n",
    "df.columns = [f'feat_{col}' if col!=60 else 'target' for col in df.columns]\n",
    "df['target'] = df['target'].map({'M': 1, 'R': 0})\n",
    "df.head()"
   ]
  },
  {
   "cell_type": "markdown",
   "metadata": {},
   "source": [
    "# Split data (train and test)"
   ]
  },
  {
   "cell_type": "code",
   "execution_count": 3,
   "metadata": {
    "ExecuteTime": {
     "end_time": "2020-12-01T08:48:36.554013Z",
     "start_time": "2020-12-01T08:48:36.548028Z"
    }
   },
   "outputs": [],
   "source": [
    "X_train, X_test, y_train, y_test = train_test_split(df.drop(columns='target'), df['target'], test_size=0.2, random_state=2020)"
   ]
  },
  {
   "cell_type": "markdown",
   "metadata": {},
   "source": [
    "# Cost functions"
   ]
  },
  {
   "cell_type": "markdown",
   "metadata": {},
   "source": [
    "In this section you should implement two cost functions. Any of these can be used in the model."
   ]
  },
  {
   "cell_type": "markdown",
   "metadata": {},
   "source": [
    "## Gini index"
   ]
  },
  {
   "cell_type": "code",
   "execution_count": 4,
   "metadata": {
    "ExecuteTime": {
     "end_time": "2020-12-01T08:48:38.113015Z",
     "start_time": "2020-12-01T08:48:38.108028Z"
    }
   },
   "outputs": [],
   "source": [
    "def gini_index(x):\n",
    "    \"\"\" Calculate Gini Index for a node\n",
    "    Args:\n",
    "        x: Numpy-array of targets in a node\n",
    "    Returns:\n",
    "        float: Gini index\n",
    "    \"\"\"    \n",
    "    if len(x) == 0:\n",
    "        return 0.0\n",
    "    p = np.bincount(x) / len(x)\n",
    "    return 1 - np.sum(p*p)"
   ]
  },
  {
   "cell_type": "code",
   "execution_count": 5,
   "metadata": {
    "ExecuteTime": {
     "end_time": "2020-12-01T08:48:38.326622Z",
     "start_time": "2020-12-01T08:48:38.320603Z"
    }
   },
   "outputs": [
    {
     "data": {
      "text/plain": [
       "0.4977348372781065"
      ]
     },
     "execution_count": 5,
     "metadata": {},
     "output_type": "execute_result"
    }
   ],
   "source": [
    "target = df['target'].values\n",
    "gini_index(target)"
   ]
  },
  {
   "cell_type": "code",
   "execution_count": 6,
   "metadata": {
    "ExecuteTime": {
     "end_time": "2020-12-01T08:48:38.517903Z",
     "start_time": "2020-12-01T08:48:38.512916Z"
    }
   },
   "outputs": [],
   "source": [
    "def gini_gain(parent_node, splits):\n",
    "    \"\"\" Calculate Gini Gain for a particular split\n",
    "    Args:\n",
    "        parent_node: Numpy-array of targets in a parent node\n",
    "        splits: List of two numpy-arrays. Each numpy-array is targets in a child node\n",
    "    Returns:\n",
    "        float: Gini gain\n",
    "    \"\"\"       \n",
    "    splits_gini = np.sum([gini_index(split)*(len(split)/len(parent_node)) for split in splits])\n",
    "    return gini_index(parent_node) - splits_gini"
   ]
  },
  {
   "cell_type": "code",
   "execution_count": 7,
   "metadata": {
    "ExecuteTime": {
     "end_time": "2020-12-01T08:48:38.731542Z",
     "start_time": "2020-12-01T08:48:38.719612Z"
    }
   },
   "outputs": [
    {
     "data": {
      "text/plain": [
       "-0.0003705758273065962"
      ]
     },
     "execution_count": 7,
     "metadata": {},
     "output_type": "execute_result"
    }
   ],
   "source": [
    "splits = [np.random.choice(df['target'].values, 100), np.random.choice(df['target'].values, 108)]\n",
    "gini_gain(target, splits)"
   ]
  },
  {
   "cell_type": "markdown",
   "metadata": {},
   "source": [
    "## Entropy"
   ]
  },
  {
   "cell_type": "code",
   "execution_count": 8,
   "metadata": {
    "ExecuteTime": {
     "end_time": "2020-12-01T08:48:39.080145Z",
     "start_time": "2020-12-01T08:48:39.075122Z"
    }
   },
   "outputs": [],
   "source": [
    "def entropy(x):\n",
    "    \"\"\" Calculate Entropy for a node\n",
    "    Args:\n",
    "        x: Numpy-array of targets in a node\n",
    "    Returns:\n",
    "        float: Entropy\n",
    "    \"\"\"\n",
    "    if len(x) == 0:\n",
    "        return 0.0\n",
    "    p = np.clip(np.bincount(x) / len(x), 1e-15, 1.)\n",
    "    return -np.sum(p * np.log(p))"
   ]
  },
  {
   "cell_type": "code",
   "execution_count": 9,
   "metadata": {
    "ExecuteTime": {
     "end_time": "2020-12-01T08:48:39.415230Z",
     "start_time": "2020-12-01T08:48:39.410243Z"
    }
   },
   "outputs": [],
   "source": [
    "def information_gain(parent_node, splits):\n",
    "    \"\"\" Calculate Information Gain for a particular split\n",
    "    Args:\n",
    "        parent_node: Numpy-array of targets in a parent node\n",
    "        splits: List of two numpy-arrays. Each numpy-array is targets in a child node\n",
    "    Returns:\n",
    "        float: Information Gain\n",
    "    \"\"\"     \n",
    "    splits_entropy = np.sum([entropy(split)*(len(split)/len(parent_node)) for split in splits])\n",
    "    return entropy(parent_node) - splits_entropy"
   ]
  },
  {
   "cell_type": "markdown",
   "metadata": {},
   "source": [
    "# Split function"
   ]
  },
  {
   "cell_type": "markdown",
   "metadata": {},
   "source": [
    "Implement split functions"
   ]
  },
  {
   "cell_type": "code",
   "execution_count": 10,
   "metadata": {
    "ExecuteTime": {
     "end_time": "2020-12-01T08:48:40.068764Z",
     "start_time": "2020-12-01T08:48:40.063788Z"
    }
   },
   "outputs": [],
   "source": [
    "def split(X, y, value):\n",
    "    \"\"\" Split y-values in order to calculate gain later\n",
    "    Args:\n",
    "        X: 1-dimensional numpy-array of data predictor with shape (N,)\n",
    "        y: 1-dimensional numpy-array of targets with shape (N,)\n",
    "        value (float): the value by which the X should be splitted\n",
    "    Returns:\n",
    "        Two 1-dimensional numpy-arrays with targets related to splits\n",
    "    \"\"\"      \n",
    "    left_mask = X < value\n",
    "    right_mask = X >= value\n",
    "    return y[left_mask], y[right_mask]\n",
    "\n",
    "\n",
    "def split_dataset(X, y, column, value):\n",
    "    \"\"\" Split dataset by a particular column and value\n",
    "    Args:\n",
    "        X: 2-dimensional numpy-array (N, num_feats). N-number of samples\n",
    "        y: 1-dimensional numpy-array of targets with shape (N,)  \n",
    "        column (int): the column by which the X should be splitted\n",
    "        value (float): the value by which the column should be splitted\n",
    "    Returns:\n",
    "        Two 2-dimensional numpy-arrays with data and two 1-dimensional numpy-arrays with targets related to splits\n",
    "        left_X, right_X, left_y, right_y\n",
    "    \"\"\"       \n",
    "    left_mask = X[:, column] < value\n",
    "    right_mask = X[:, column] >= value\n",
    "    left_y, right_y = y[left_mask], y[right_mask]\n",
    "    left_X, right_X = X[left_mask], X[right_mask]\n",
    "    return left_X, right_X, left_y, right_y"
   ]
  },
  {
   "cell_type": "markdown",
   "metadata": {},
   "source": [
    "# Decision tree"
   ]
  },
  {
   "cell_type": "code",
   "execution_count": 11,
   "metadata": {
    "ExecuteTime": {
     "end_time": "2020-12-01T08:48:40.412627Z",
     "start_time": "2020-12-01T08:48:40.393648Z"
    }
   },
   "outputs": [],
   "source": [
    "class Tree(object):\n",
    "    \"\"\"A decision tree classifier.\n",
    "\n",
    "    Args:\n",
    "        criterion : {\"gini_gain\", \"information_gain\"}\n",
    "    \"\"\"\n",
    "    def __init__(self, criterion=None):\n",
    "        self.impurity = None\n",
    "        self.threshold = None\n",
    "        self.column_index = None\n",
    "        self.outcome_probs = None\n",
    "        self.criterion = criterion\n",
    "        self.left_child = None\n",
    "        self.right_child = None\n",
    "\n",
    "    @property\n",
    "    def is_terminal(self):\n",
    "        \"\"\" Define is it terminal node\n",
    "        \"\"\"          \n",
    "        return not bool(self.left_child and self.right_child)\n",
    "\n",
    "    def _find_splits(self, X):\n",
    "        \"\"\"Find all possible split values.\"\"\"\n",
    "        split_values = set()\n",
    "\n",
    "        # Get unique values in a sorted order\n",
    "        x_unique = list(np.unique(X))\n",
    "        for i in range(1, len(x_unique)):\n",
    "            # Find a point between two values\n",
    "            average = (x_unique[i - 1] + x_unique[i]) / 2.0\n",
    "            split_values.add(average)\n",
    "\n",
    "        return list(split_values)\n",
    "\n",
    "    def _find_best_split(self, X, y, n_features):\n",
    "        \"\"\"Find best feature and value for a split. Greedy algorithm.\"\"\"\n",
    "\n",
    "        # Sample random subset of features\n",
    "        subset = random.sample(list(range(0, X.shape[1])), n_features)\n",
    "        max_gain, max_col, max_val = None, None, None\n",
    "\n",
    "        for column in subset:\n",
    "            split_values = self._find_splits(X[:, column])\n",
    "            for value in split_values:\n",
    "                splits = split(X[:, column], y, value)\n",
    "                gain = self.criterion(y, splits)\n",
    "\n",
    "                if (max_gain is None) or (gain > max_gain):\n",
    "                    max_col, max_val, max_gain = column, value, gain\n",
    "        return max_col, max_val, max_gain\n",
    "\n",
    "    def fit(self, X, y, n_features=None, max_depth=None):\n",
    "        \"\"\"Fit model.\n",
    "\n",
    "        Args:\n",
    "            X (numpy-array): The training input samples. 2-dimensional numpy array.\n",
    "            y (numpy-array): The target values. 1-dimensional numpy array.\n",
    "            n_features (int): The number of features when fit is performed (default: all features)\n",
    "            max_depth (int): The maximum depth of the tree. If None, then nodes are expanded until\n",
    "                             all leaves are pure.\n",
    "        \"\"\"        \n",
    "        try:\n",
    "            # Exit from recursion using assert syntax\n",
    "            if max_depth is not None:\n",
    "                assert max_depth > 0\n",
    "                max_depth -= 1\n",
    "\n",
    "            if n_features is None:\n",
    "                n_features = X.shape[1]\n",
    "\n",
    "            column, value, gain = self._find_best_split(X, y, n_features)\n",
    "            assert gain is not None\n",
    "\n",
    "            self.column_index = column\n",
    "            self.threshold = value\n",
    "            self.impurity = gain\n",
    "\n",
    "            # Split dataset\n",
    "            left_X, right_X, left_target, right_target = split_dataset(X, y, column, value)\n",
    "\n",
    "            # Grow left and right child\n",
    "            self.left_child = Tree(self.criterion)\n",
    "            self.left_child.fit(\n",
    "                left_X, left_target, n_features, max_depth\n",
    "            )\n",
    "\n",
    "            self.right_child = Tree(self.criterion)\n",
    "            self.right_child.fit(\n",
    "                right_X, right_target, n_features, max_depth\n",
    "            )\n",
    "        except AssertionError:\n",
    "            self.outcome_probs = np.around(np.sum(y) / y.shape[0])\n",
    "\n",
    "\n",
    "    def predict_row(self, row):\n",
    "        \"\"\"Predict single row.\"\"\"\n",
    "        if not self.is_terminal:\n",
    "            if row[self.column_index] < self.threshold:\n",
    "                return self.left_child.predict_row(row)\n",
    "            else:\n",
    "                return self.right_child.predict_row(row)\n",
    "        return self.outcome_probs\n",
    "\n",
    "    def predict(self, X):\n",
    "        \"\"\"Make predictions.\n",
    "\n",
    "        Args:\n",
    "            X (numpy-array): The test input samples. 2-dimensional numpy array.\n",
    "        \"\"\"  \n",
    "        result = np.zeros(X.shape[0])\n",
    "        for i in range(X.shape[0]):\n",
    "            result[i] = self.predict_row(X[i, :])\n",
    "        return result"
   ]
  },
  {
   "cell_type": "markdown",
   "metadata": {},
   "source": [
    "Fit two models with \"max_depth=3\" and \"max_depth=None\" hyperparameters. Explain the results."
   ]
  },
  {
   "cell_type": "code",
   "execution_count": 12,
   "metadata": {
    "ExecuteTime": {
     "end_time": "2020-12-01T08:48:45.836138Z",
     "start_time": "2020-12-01T08:48:41.916791Z"
    }
   },
   "outputs": [
    {
     "name": "stdout",
     "output_type": "stream",
     "text": [
      "Accuracy score is: 0.6666666666666666\n"
     ]
    }
   ],
   "source": [
    "model = Tree(criterion=gini_gain)\n",
    "model.fit(X_train.values, y_train.values)\n",
    "y_pred = model.predict(X_test.values)\n",
    "print(f\"Accuracy score is: {accuracy_score(y_test, y_pred)}\")"
   ]
  },
  {
   "cell_type": "code",
   "execution_count": 13,
   "metadata": {
    "ExecuteTime": {
     "end_time": "2020-12-01T08:48:41.915820Z",
     "start_time": "2020-12-01T08:48:40.891474Z"
    }
   },
   "outputs": [
    {
     "name": "stdout",
     "output_type": "stream",
     "text": [
      "Accuracy score is: 0.6666666666666666\n"
     ]
    }
   ],
   "source": [
    "model = Tree(criterion=gini_gain)\n",
    "model.fit(X_train.values, y_train.values, max_depth=3)\n",
    "y_pred = model.predict(X_test.values)\n",
    "print(f\"Accuracy score is: {accuracy_score(y_test, y_pred)}\")"
   ]
  },
  {
   "cell_type": "code",
   "execution_count": 14,
   "metadata": {},
   "outputs": [
    {
     "name": "stdout",
     "output_type": "stream",
     "text": [
      "Accuracy score is: 0.7380952380952381\n"
     ]
    }
   ],
   "source": [
    "model = Tree(criterion=information_gain)\n",
    "model.fit(X_train.values, y_train.values, max_depth=3)\n",
    "y_pred = model.predict(X_test.values)\n",
    "print(f\"Accuracy score is: {accuracy_score(y_test, y_pred)}\")"
   ]
  },
  {
   "cell_type": "markdown",
   "metadata": {},
   "source": [
    "# Random forest"
   ]
  },
  {
   "cell_type": "code",
   "execution_count": 15,
   "metadata": {
    "ExecuteTime": {
     "end_time": "2020-12-01T08:48:45.857086Z",
     "start_time": "2020-12-01T08:48:45.838139Z"
    }
   },
   "outputs": [],
   "source": [
    "class RandomForestClassifier(object):\n",
    "    \"\"\"\n",
    "    A random forest classifier.\n",
    "    A random forest is a meta estimator that fits a number of decision tree\n",
    "    classifiers on various sub-samples of the dataset and uses averaging to\n",
    "    improve the predictive accuracy and control overfitting.\n",
    "    \n",
    "    Args:\n",
    "        n_estimators : int, default=10\n",
    "            The number of trees in the forest.\n",
    "\n",
    "        max_depth : int, default=None\n",
    "            The maximum depth of the tree. If None, then nodes are expanded until\n",
    "            all leaves are pure.        \n",
    "\n",
    "        n_features : int, default=None\n",
    "            The number of features to consider when looking for the best split.\n",
    "            If None, then `n_features=sqrt(n_features)`.\n",
    "\n",
    "        criterion : {\"gini\", \"entropy\"}, default=\"gini\"\n",
    "            The function to measure the quality of a split. Supported criteria are\n",
    "            \"gini\" for the Gini impurity and \"entropy\" for the information gain.\n",
    "    \"\"\"\n",
    "\n",
    "    def __init__(self, n_estimators=10, max_depth=None, n_features=None, criterion=\"entropy\", bootstrap=True):\n",
    "        self.n_estimators = n_estimators\n",
    "        self.max_depth = max_depth\n",
    "        self.n_features = n_features\n",
    "        self.bootstrap = bootstrap\n",
    "        \n",
    "        if criterion == \"entropy\":\n",
    "            self.criterion = information_gain\n",
    "        elif criterion == \"gini\":\n",
    "            self.criterion = gini_gain\n",
    "        else:\n",
    "            raise ValueError(f\"Unknown criterion '{criterion}'\")\n",
    "            \n",
    "        self.trees = [Tree(criterion=self.criterion) for _ in range(n_estimators)]\n",
    "        \n",
    "    def _init_data(self, X, y):\n",
    "        \"\"\"Ensure data are in the expected format.\n",
    "        Ensures X and y are stored as numpy ndarrays by converting from an\n",
    "        array-like object if necessary. \n",
    "        Parameters\n",
    "        Args:\n",
    "            X : array-like\n",
    "                Feature dataset.\n",
    "            y : array-like, default=None\n",
    "                Target values. By default is required, but if y_required = false\n",
    "                then may be omitted.\n",
    "        \"\"\"\n",
    "        self.size = len(X)\n",
    "        \n",
    "        if not isinstance(X, np.ndarray):\n",
    "            self.X = np.array(X)\n",
    "        else:\n",
    "            self.X = X\n",
    "\n",
    "        if not isinstance(y, np.ndarray):\n",
    "            self.y = np.array(y)\n",
    "        else:\n",
    "            self.y = y\n",
    "            \n",
    "    def bootstrap_data(self, size):\n",
    "        return np.random.randint(size, size=size)\n",
    "    \n",
    "    def fit(self, X, y):\n",
    "        \"\"\"Fit model.\n",
    "\n",
    "        Args:\n",
    "            X (numpy-array): The training input samples. 2-dimensional numpy array.\n",
    "            y (numpy-array): The target values. 1-dimensional numpy array.\n",
    "        \"\"\"         \n",
    "        if self.n_features is None:\n",
    "            self.n_features = int(np.sqrt(X.shape[1]))\n",
    "        elif X.shape[1] < self.n_features:\n",
    "            raise ValueError(f\"'n_features should be <= n_features'\")\n",
    "            \n",
    "        self._init_data(X, y)\n",
    "        \n",
    "        for tree in self.trees:\n",
    "            if self.bootstrap:\n",
    "                idxs = self.bootstrap_data(self.size)\n",
    "                X = self.X[idxs]\n",
    "                y = self.y[idxs]\n",
    "            else:\n",
    "                X = self.X\n",
    "                y = self.y\n",
    "                \n",
    "            tree.fit(\n",
    "                X,\n",
    "                y,\n",
    "                n_features=self.n_features,\n",
    "                max_depth=self.max_depth,\n",
    "            )\n",
    "            \n",
    "    def predict(self, X):\n",
    "        \"\"\"Make predictions.\n",
    "\n",
    "        Args:\n",
    "            X (numpy-array): The test data input samples. 2-dimensional numpy array.\n",
    "        \"\"\"            \n",
    "        if not isinstance(X, np.ndarray):\n",
    "            X = np.array(X)\n",
    "\n",
    "        if self.X is not None:\n",
    "            predictions = np.zeros(len(X))\n",
    "            for i in range(len(X)):\n",
    "                row_pred = 0.\n",
    "                for tree in self.trees:\n",
    "                    row_pred += tree.predict_row(X[i, :])\n",
    "\n",
    "                row_pred /= self.n_estimators\n",
    "                predictions[i] = round(row_pred)\n",
    "            return predictions  \n",
    "        else:\n",
    "            raise ValueError(\"You should fit a model before `predict`\")"
   ]
  },
  {
   "cell_type": "markdown",
   "metadata": {},
   "source": [
    "Fit two models with \"n_estimators=10\" and \"n_estimators=100\" hyperparameters. Explain the results."
   ]
  },
  {
   "cell_type": "code",
   "execution_count": 16,
   "metadata": {
    "ExecuteTime": {
     "end_time": "2020-12-01T08:48:51.641967Z",
     "start_time": "2020-12-01T08:48:45.860076Z"
    }
   },
   "outputs": [
    {
     "name": "stdout",
     "output_type": "stream",
     "text": [
      "Accuracy score is: 0.7380952380952381\n"
     ]
    }
   ],
   "source": [
    "model = RandomForestClassifier(n_estimators=10, max_depth=None, n_features=None, criterion=\"entropy\")\n",
    "model.fit(X_train, y_train)\n",
    "y_pred = model.predict(X_test)\n",
    "print(f\"Accuracy score is: {accuracy_score(y_test, y_pred)}\")"
   ]
  },
  {
   "cell_type": "code",
   "execution_count": 17,
   "metadata": {
    "ExecuteTime": {
     "end_time": "2020-12-01T08:49:47.690531Z",
     "start_time": "2020-12-01T08:48:51.644919Z"
    }
   },
   "outputs": [
    {
     "name": "stdout",
     "output_type": "stream",
     "text": [
      "Accuracy score is: 0.8809523809523809\n"
     ]
    }
   ],
   "source": [
    "model = RandomForestClassifier(n_estimators=100, max_depth=None, n_features=None, criterion=\"entropy\")\n",
    "model.fit(X_train, y_train)\n",
    "y_pred = model.predict(X_test)\n",
    "print(f\"Accuracy score is: {accuracy_score(y_test, y_pred)}\")"
   ]
  },
  {
   "cell_type": "markdown",
   "metadata": {},
   "source": [
    "Now it's your turn to explore the various parameters of sklearn [RandomForestClassifier](https://scikit-learn.org/stable/modules/generated/sklearn.ensemble.RandomForestClassifier.html) and their influence on model quality."
   ]
  },
  {
   "cell_type": "markdown",
   "metadata": {},
   "source": [
    "# Homework part 1. RandomForestClassifier"
   ]
  },
  {
   "cell_type": "markdown",
   "metadata": {},
   "source": [
    "_Note_: Consider **accuracy** as main metric of model performance on this dataset."
   ]
  },
  {
   "cell_type": "code",
   "execution_count": 20,
   "metadata": {},
   "outputs": [],
   "source": [
    "from sklearn.ensemble import RandomForestClassifier"
   ]
  },
  {
   "cell_type": "markdown",
   "metadata": {},
   "source": [
    "**Task 1 (0.5 points)** Split the dataset into train, test and validation parts (0.6 / 0.2 / 0.2). First two will be used for model hyperparameter tuning whereas the best model quality should be evaluated on validation part."
   ]
  },
  {
   "cell_type": "code",
   "execution_count": 34,
   "metadata": {},
   "outputs": [],
   "source": [
    "# Your code here\n",
    "ratio_train = 0.6\n",
    "ratio_val = 0.2\n",
    "ratio_test = 0.2\n",
    "\n",
    "# Produces test split.\n",
    "x_train_d, x_remaining_d, y_train_d, y_remaining_d = train_test_split(df.drop(columns='target'), df['target'], train_size=0.6, random_state=2)\n",
    "\n",
    "# Adjusts validation ratio,\n",
    "ratio_remaining = 1 - ratio_train  # e.g 1 - 0.6 = 0.4 \n",
    "ratio_val_adjusted = ratio_val / ratio_remaining # 0.2/0.4 = 0.5\n",
    "\n",
    "# Produces train and val splits.\n",
    "x_test_d, x_val_d, y_test_d, y_val_d = train_test_split(x_remaining_d, y_remaining_d, test_size=ratio_val_adjusted, random_state=0)"
   ]
  },
  {
   "cell_type": "markdown",
   "metadata": {},
   "source": [
    "**Task 2 (2 points)**. Apply '_greedy_' hyperparameter tuning of RandomForestClassifier model. '_Greedy_' way means the following general approach. At first we tune one model parameter whereas others are fixed with default values. Then we move on to tune the second parameter whereas others are fixed default values and first has the best values from previous step. After it we tune the third parameter with best fixed values for previous two and default values for the rest. Repeat until we go through all the parameters, then repeat this cycle if you are seeing a clear increase in the test metric. <br>\n",
    "\n",
    "Although this approach has a lot of disadvantages (you may think which ones), sometimes that is the only way to tune model typerparams due to big training time **if you understand how the model parameters are interrelated and the tuning order takes those dependencies into account.**<br>\n",
    "\n",
    "Here is one of the possible options for RandomForestClassifier:\n",
    "- Choose a decent value for number of trees using '_elbow_' rule. You may plot the dependence of accuracy on trees_num and pick up the number after which the error decreases not **as much as before**. \n",
    "- Pick up the best split criterion ('gini' / 'entropy') and then tune _max_depth_, _min_samples_split_, _min_samples_leaf_.\n",
    "- Increase number of trees with best found parameters so far.\n",
    "- Repeat this excersice starting from picking the best split criterion while other params are fixed with best values from previous steps **if you observe a significant test metric improvement**. Otherwise just stop and measure your best model result on validation set."
   ]
  },
  {
   "cell_type": "code",
   "execution_count": 35,
   "metadata": {},
   "outputs": [],
   "source": [
    "# Your code here\n",
    "from sklearn.metrics import accuracy_score\n",
    "\n",
    "\n",
    "acc_ntrees  = []\n",
    "trees = []\n",
    "for n_tree in range(1, 120, 1):\n",
    "    selection_model = RandomForestClassifier(n_estimators=n_tree, random_state=2)\n",
    "    selection_model.fit(x_train_d, y_train_d)\n",
    "    y_pred_d = selection_model.predict(x_test_d)\n",
    "    acc = accuracy_score(y_test_d, y_pred_d)\n",
    "    acc_ntrees.append(acc)\n",
    "    trees.append(n_tree)\n"
   ]
  },
  {
   "cell_type": "code",
   "execution_count": 38,
   "metadata": {},
   "outputs": [
    {
     "data": {
      "image/png": "[encoded data removed]",
      "text/plain": [
       "<Figure size 1152x432 with 1 Axes>"
      ]
     },
     "metadata": {
      "needs_background": "light"
     },
     "output_type": "display_data"
    }
   ],
   "source": [
    "import matplotlib.pyplot as plt\n",
    "\n",
    "fig, ax = plt.subplots()\n",
    "fig.set_size_inches(16, 6)\n",
    "ax.plot(trees, acc_ntrees, label=\"n_trees\")\n",
    "ax.set_title('Accurancy n-trees dependency')\n",
    "ax.set_xlabel('Number of trees')\n",
    "ax.set_ylabel('Accurancy')\n",
    "ax.legend()\n",
    "#plt.ylim([0.6, 0.9])\n",
    "#plt.xlim([35, 40])\n",
    "plt.show()\n"
   ]
  },
  {
   "cell_type": "markdown",
   "metadata": {},
   "source": [
    "Assume <b>n_estimators = 39</b>\n"
   ]
  },
  {
   "cell_type": "code",
   "execution_count": 39,
   "metadata": {},
   "outputs": [
    {
     "data": {
      "image/png": "[encoded data removed]",
      "text/plain": [
       "<Figure size 1152x432 with 1 Axes>"
      ]
     },
     "metadata": {
      "needs_background": "light"
     },
     "output_type": "display_data"
    },
    {
     "name": "stdout",
     "output_type": "stream",
     "text": [
      "[0.8571428571428571, 0.8571428571428571]\n"
     ]
    }
   ],
   "source": [
    "criterion  = []\n",
    "acc_criterion = []\n",
    "for n in ('gini', 'entropy'):\n",
    "    selection_model = RandomForestClassifier(n_estimators=39, criterion='entropy', random_state=2)\n",
    "    selection_model.fit(x_train_d, y_train_d)\n",
    "    y_pred_d = selection_model.predict(x_test_d)\n",
    "    acc = accuracy_score(y_test_d, y_pred_d)\n",
    "    acc_criterion.append(acc)\n",
    "    criterion.append(n)\n",
    "\n",
    "fig, ax = plt.subplots()\n",
    "fig.set_size_inches(16, 6)\n",
    "ax.bar(criterion, acc_criterion, label=\"criterion\")\n",
    "ax.set_title('Accurancy criterion dependency')\n",
    "ax.set_xlabel('Criterion')\n",
    "ax.set_ylabel('Accurancy')\n",
    "plt.show()    \n",
    "print(acc_criterion)\n"
   ]
  },
  {
   "cell_type": "markdown",
   "metadata": {},
   "source": [
    "For N-trees 39, there is no difference on criterion. Let's choose __entropy__\n",
    "In common it's hard to identify 'elbow' for n-trees and criterion"
   ]
  },
  {
   "cell_type": "code",
   "execution_count": 45,
   "metadata": {},
   "outputs": [
    {
     "data": {
      "image/png": "[encoded data removed]",
      "text/plain": [
       "<Figure size 1152x432 with 1 Axes>"
      ]
     },
     "metadata": {
      "needs_background": "light"
     },
     "output_type": "display_data"
    }
   ],
   "source": [
    "\n",
    "param_val  = []\n",
    "acc_list = []\n",
    "for n in range(1, 25, 1):\n",
    "    selection_model = RandomForestClassifier(n_estimators=39, criterion='entropy',max_depth=n , random_state=2)\n",
    "    selection_model.fit(x_train_d, y_train_d)\n",
    "    y_pred_d = selection_model.predict(x_test_d)\n",
    "    acc = accuracy_score(y_test_d, y_pred_d)\n",
    "    acc_list.append(acc)\n",
    "    param_val.append(n)\n",
    "\n",
    "fig, ax = plt.subplots()\n",
    "fig.set_size_inches(16, 6)\n",
    "ax.plot(param_val, acc_list, label=\"max_depth\")\n",
    "ax.set_title('Accurancy max_depth dependency')\n",
    "ax.set_xlabel('max_depth')\n",
    "ax.set_ylabel('Accurancy')\n",
    "# plt.xlim([5, 10])\n",
    "ax.grid()\n",
    "plt.show()"
   ]
  },
  {
   "cell_type": "markdown",
   "metadata": {},
   "source": [
    "Selected value for max_depth is <b>9</b>"
   ]
  },
  {
   "cell_type": "code",
   "execution_count": 46,
   "metadata": {},
   "outputs": [
    {
     "data": {
      "image/png": "[encoded data removed]",
      "text/plain": [
       "<Figure size 1152x432 with 1 Axes>"
      ]
     },
     "metadata": {
      "needs_background": "light"
     },
     "output_type": "display_data"
    }
   ],
   "source": [
    "# min_samples_split\n",
    "import numpy as np\n",
    "\n",
    "param_val  = []\n",
    "acc_list = []\n",
    "for n in range(2, 200, 5):\n",
    "    selection_model = RandomForestClassifier(n_estimators=35, criterion='entropy',max_depth=9, min_samples_split=n , random_state=2)\n",
    "    selection_model.fit(x_train_d, y_train_d)\n",
    "    y_pred_d = selection_model.predict(x_test_d)\n",
    "    acc = accuracy_score(y_test_d, y_pred_d)\n",
    "    acc_list.append(acc)\n",
    "    param_val.append(n)\n",
    "\n",
    "fig, ax = plt.subplots()\n",
    "fig.set_size_inches(16, 6)\n",
    "ax.plot(param_val, acc_list, label=\"min_samples_split\")\n",
    "ax.set_title('Accurancy min_samples_splitmin_samples_split dependency')\n",
    "ax.set_xlabel('min_samples_split')\n",
    "ax.set_ylabel('Accurancy')\n",
    "ax.grid()\n",
    "plt.show()"
   ]
  },
  {
   "cell_type": "markdown",
   "metadata": {},
   "source": [
    "Accurancy falls down when we increase _min_samples_split_, let's pass __10__ for that parameter"
   ]
  },
  {
   "cell_type": "code",
   "execution_count": 50,
   "metadata": {},
   "outputs": [
    {
     "data": {
      "image/png": "[encoded data removed]",
      "text/plain": [
       "<Figure size 1152x432 with 1 Axes>"
      ]
     },
     "metadata": {
      "needs_background": "light"
     },
     "output_type": "display_data"
    }
   ],
   "source": [
    "# min_samples_leaf\n",
    "param_val  = []\n",
    "acc_list = []\n",
    "for n in range(1, 200, 5):\n",
    "    selection_model = RandomForestClassifier(n_estimators=35, criterion='entropy',max_depth=9, min_samples_split=10, min_samples_leaf=n , random_state=2)\n",
    "    selection_model.fit(x_train_d, y_train_d)\n",
    "    y_pred_d = selection_model.predict(x_test_d)\n",
    "    acc = accuracy_score(y_test_d, y_pred_d)\n",
    "    acc_list.append(acc)\n",
    "    param_val.append(n)\n",
    "\n",
    "fig, ax = plt.subplots()\n",
    "fig.set_size_inches(16, 6)\n",
    "ax.plot(param_val, acc_list, label=\"min_samples_leaf\")\n",
    "ax.set_title('Accurancy min_samples_leaf dependency')\n",
    "ax.set_xlabel('min_samples_leaf')\n",
    "ax.set_ylabel('Accurancy')\n",
    "ax.grid()\n",
    "#plt.xlim([30, 44])\n",
    "plt.show()"
   ]
  },
  {
   "cell_type": "markdown",
   "metadata": {},
   "source": [
    "Accurancy falls down when we increase _min_samples_split_, let's pass __41__ for that parameter"
   ]
  },
  {
   "cell_type": "markdown",
   "metadata": {},
   "source": [
    "__Final hyperparameters set:__\n",
    "\n",
    "n_estimators=35 \n",
    "\n",
    "criterion='entropy'\n",
    "\n",
    "max_depth=9\n",
    "\n",
    "min_samples_split=10\n",
    "\n",
    "min_samples_leaf=41"
   ]
  },
  {
   "cell_type": "code",
   "execution_count": 55,
   "metadata": {},
   "outputs": [
    {
     "name": "stdout",
     "output_type": "stream",
     "text": [
      "Final model accuracy: 0.8571428571428571\n"
     ]
    }
   ],
   "source": [
    "#Trying to calculate accurancy score with final model\n",
    "selection_model = RandomForestClassifier(n_estimators=35, criterion='entropy',max_depth=9, min_samples_split=10, min_samples_leaf=41 , random_state=2)\n",
    "selection_model.fit(x_train_d, y_train_d)\n",
    "y_pred_d = selection_model.predict(x_test_d)\n",
    "acc = accuracy_score(y_test_d, y_pred_d)\n",
    "print(f'Final model accuracy: {acc}')"
   ]
  },
  {
   "cell_type": "markdown",
   "metadata": {},
   "source": [
    "### Grid Search and Random Search"
   ]
  },
  {
   "cell_type": "markdown",
   "metadata": {},
   "source": [
    "If you have enough computational power for model training in a reasonable amount of time more sophisticated approach of hyperparameter tuning would be either Grid Search or Random Search.<br>\n",
    "\n",
    "In a nutshell Grid Search allows you to pass through all different combinations of given model parameters and their values and choose the best combination. Whereas Random Search would randomly choose values for given model parameters and evaluate them on test data untill it reaches the specified number of iterations.<br>\n",
    "\n",
    "More information here [Gentle introduction to Grid and Random search](https://medium.com/@senapati.dipak97/grid-search-vs-random-search-d34c92946318) and here [Detailed Explanation with code examples](https://machinelearningmastery.com/hyperparameter-optimization-with-random-search-and-grid-search/)."
   ]
  },
  {
   "attachments": {
    "grid_random_search.png": {
     "image/png": "[encoded data removed]"
    }
   },
   "cell_type": "markdown",
   "metadata": {},
   "source": [
    "![grid_random_search.png](attachment:grid_random_search.png)"
   ]
  },
  {
   "cell_type": "markdown",
   "metadata": {},
   "source": [
    "**Task 3 (1 point)**. Compare your previous results with [GridSearch](https://scikit-learn.org/stable/modules/generated/sklearn.model_selection.GridSearchCV.html) hyperparameter tuning. You may tune best hyperparameters for forest with several trees and then increase it while measure the quality on validation dataset."
   ]
  },
  {
   "cell_type": "code",
   "execution_count": 132,
   "metadata": {},
   "outputs": [],
   "source": [
    "# Your code here\n",
    "from sklearn.model_selection import RepeatedStratifiedKFold,RepeatedKFold, GridSearchCV, RandomizedSearchCV\n",
    "\n",
    "\n",
    "# define model\n",
    "model = RandomForestClassifier()"
   ]
  },
  {
   "cell_type": "code",
   "execution_count": 139,
   "metadata": {},
   "outputs": [],
   "source": [
    "space_grid = dict()\n",
    "space_grid['n_estimators'] = list(x for x in range(1,40,2))\n",
    "space_grid['criterion'] = ['gini', 'entropy']\n",
    "space_grid['max_depth'] = list(x for x in range(1, 10))\n",
    "\n",
    "cv = RepeatedStratifiedKFold(n_splits=10, n_repeats=1, random_state=4)\n",
    "search_grid = GridSearchCV(model, space_grid, scoring='accuracy', n_jobs=-1, cv=cv)"
   ]
  },
  {
   "cell_type": "code",
   "execution_count": 140,
   "metadata": {},
   "outputs": [
    {
     "name": "stdout",
     "output_type": "stream",
     "text": [
      "Best Score: 0.8461538461538461\n",
      "Best Hyperparameters: {'criterion': 'entropy', 'max_depth': 5, 'n_estimators': 29}\n"
     ]
    }
   ],
   "source": [
    "result_grid = search_grid.fit(x_train_d, y_train_d)\n",
    "# summarize result\n",
    "print('Best Score: %s' % result_grid.best_score_)\n",
    "print('Best Hyperparameters: %s' % result_grid.best_params_)"
   ]
  },
  {
   "cell_type": "code",
   "execution_count": 143,
   "metadata": {},
   "outputs": [],
   "source": [
    "model_grid = RandomForestClassifier(n_estimators=29, criterion='entropy', max_depth=5)\n",
    "\n",
    "space_grid_adj = dict()\n",
    "space_grid_adj['min_samples_split'] = list(x for x in range(2, 15))\n",
    "space_grid_adj['min_samples_leaf'] = list(x for x in range(1, 50))\n",
    "\n",
    "cv = RepeatedStratifiedKFold(n_splits=10, n_repeats=1, random_state=2)\n",
    "search_grid = GridSearchCV(model_grid, space_grid_adj, scoring='accuracy', n_jobs=-1, cv=cv)"
   ]
  },
  {
   "cell_type": "code",
   "execution_count": 144,
   "metadata": {},
   "outputs": [
    {
     "name": "stdout",
     "output_type": "stream",
     "text": [
      "Best Score: 0.8230769230769232\n",
      "Best Hyperparameters: {'min_samples_leaf': 2, 'min_samples_split': 2}\n"
     ]
    }
   ],
   "source": [
    "result_grid = search_grid.fit(x_train_d, y_train_d)\n",
    "# summarize result\n",
    "print('Best Score: %s' % result_grid.best_score_)\n",
    "print('Best Hyperparameters: %s' % result_grid.best_params_)"
   ]
  },
  {
   "cell_type": "markdown",
   "metadata": {},
   "source": [
    "**Task 4 (1 point)**. And finally tune forest hyperparameters with [RandomSearch](https://scikit-learn.org/stable/modules/generated/sklearn.model_selection.RandomizedSearchCV.html). Compare results to previous attempts."
   ]
  },
  {
   "cell_type": "code",
   "execution_count": 53,
   "metadata": {},
   "outputs": [],
   "source": [
    "space_rand = dict()\n",
    "space_rand['n_estimators'] = list(x for x in range(1, 100))\n",
    "space_rand['criterion'] = ['gini', 'entropy']\n",
    "space_rand['max_depth'] = list(x for x in range(1, 100))\n",
    "space_rand['min_samples_split'] = list(x for x in range(2, 100))\n",
    "space_rand['min_samples_leaf'] = list(x for x in range(1, 100))\n",
    "\n",
    "cv_rand = RepeatedKFold(n_splits=10, n_repeats=4, random_state=4201)\n",
    "random_search = RandomizedSearchCV(model, space_rand, n_iter=100, scoring='accuracy', n_jobs=2, cv=cv_rand, random_state=4201)"
   ]
  },
  {
   "cell_type": "code",
   "execution_count": 54,
   "metadata": {
    "scrolled": true
   },
   "outputs": [
    {
     "name": "stdout",
     "output_type": "stream",
     "text": [
      "Best Score: 0.7463141025641026\n",
      "Best Hyperparameters: {'n_estimators': 63, 'min_samples_split': 2, 'min_samples_leaf': 6, 'max_depth': 86, 'criterion': 'gini'}\n"
     ]
    }
   ],
   "source": [
    "# Your code here\n",
    "result_rand = random_search.fit(x_train_d, y_train_d)\n",
    "# summarize result\n",
    "print('Best Score: %s' % result_rand.best_score_)\n",
    "print('Best Hyperparameters: %s' % result_rand.best_params_)"
   ]
  },
  {
   "cell_type": "markdown",
   "metadata": {},
   "source": [
    "**Task 5 (0.5 points)**. Tell us about your experience in hyperparameter tuning with the approaches above. What do you think would be the best option for this task and why?"
   ]
  },
  {
   "cell_type": "markdown",
   "metadata": {},
   "source": [
    "I stucked with __MemoryError__ using GridSearchCV and too long execution, if I use the same search space for gridsearch as for random.\n",
    "I guess that the toot cause for it in number of combinations for check, 2^N where N-number of parameters. I tried to decrise parameters for search and space, but it has't change common behavior. \n",
    "GridSearch requires large computing resources. Random search has much better performance.\n",
    "Due performance issue, GridSearch scape was splitted in two parts and and then calculated. You can find details for each part below\n"
   ]
  },
  {
   "cell_type": "markdown",
   "metadata": {},
   "source": [
    "__Manual Choose Results__\n",
    "Best Score: 0.8571428571428571\n",
    "Best Hyperparameters: {'n_estimators': 35, 'criterion': 'entropy', 'max_depth': 9, 'min_samples_split': 10, 'min_samples_leaf':41\n",
    "\n",
    "__GridSearch Results__\n",
    "Best Score: 0.8384615384615385\n",
    "Best Hyperparameters: {'criterion': 'entropy', 'max_depth': 9, 'n_estimators': 35}\n",
    "\n",
    "\n",
    "__RandomSearch Results__\n",
    "Best Score: 0.7463141025641026\n",
    "Best Hyperparameters: {'n_estimators': 63, 'min_samples_split': 2, 'min_samples_leaf': 6, 'max_depth': 86, 'criterion': 'gini'}"
   ]
  },
  {
   "cell_type": "markdown",
   "metadata": {},
   "source": [
    "### Let's compare all together on validation dataset\n"
   ]
  },
  {
   "cell_type": "code",
   "execution_count": 148,
   "metadata": {},
   "outputs": [
    {
     "name": "stdout",
     "output_type": "stream",
     "text": [
      "Manual model accuracy validation: 0.7142857142857143\n",
      "GridSeqrch model accuracy on validation: 0.8333333333333334\n",
      "RandomSearch model accuracy on validation: 0.8571428571428571\n"
     ]
    }
   ],
   "source": [
    "model_manual = RandomForestClassifier(n_estimators=35, criterion='entropy',max_depth=9, min_samples_split=10, min_samples_leaf=41, random_state=4201)\n",
    "model_grid = RandomForestClassifier(n_estimators=29, criterion='entropy', max_depth=5, min_samples_leaf=2, min_samples_split=2, random_state=4201)\n",
    "model_random = RandomForestClassifier(n_estimators=63, criterion='gini', max_depth=86, min_samples_leaf=6, min_samples_split=2, random_state=4201)\n",
    "\n",
    "\n",
    "model_manual.fit(x_train_d, y_train_d)\n",
    "model_grid.fit(x_train_d, y_train_d)\n",
    "model_random.fit(x_train_d, y_train_d)\n",
    "\n",
    "y_pred_manual = model_manual.predict(x_test_d)\n",
    "y_pred_grid = model_grid.predict(x_test_d)\n",
    "y_pred_random = model_random.predict(x_test_d)\n",
    "\n",
    "acc_manual = accuracy_score(y_test_d, y_pred_manual)\n",
    "acc_grid = accuracy_score(y_test_d, y_pred_grid)\n",
    "acc_random = accuracy_score(y_test_d, y_pred_random)\n",
    "print(f'Manual model accuracy validation: {acc_manual}')\n",
    "print(f'GridSearch model accuracy on validation: {acc_grid}')\n",
    "print(f'RandomSearch model accuracy on validation: {acc_random}')"
   ]
  },
  {
   "cell_type": "markdown",
   "metadata": {},
   "source": [
    "### My Conclusion"
   ]
  },
  {
   "cell_type": "markdown",
   "metadata": {},
   "source": [
    "For Manual Search it's often hard to identify elbow thresthold and choose correct value for hyperparameters. With automated Search method it much easer.But due to performance issue, it's hard to say about fully correct results for GridSearch.\n",
    "My conclusion RandomSearch is the best choice in our case and you can see that it has the best results on our validation dataset."
   ]
  },
  {
   "cell_type": "markdown",
   "metadata": {},
   "source": [
    "### Desicion tree explained"
   ]
  },
  {
   "cell_type": "markdown",
   "metadata": {},
   "source": [
    "Remember the [Titanic](https://www.kaggle.com/c/titanic) competition from last week? Wouldn't be a good idea to visualize one of possible desicion-making processes of _survived_ / _dead_ labeling?"
   ]
  },
  {
   "cell_type": "markdown",
   "metadata": {},
   "source": [
    "**Task 6 (1 point)**. Load titanic dataset, split it into train/test parts, apply simple hyperparameter tuning of [DesicionTreeClassifier](https://scikit-learn.org/stable/modules/generated/sklearn.tree.DecisionTreeClassifier.html) (use one of the approaches above) in order to have **test accuracy more than 0.65**. <br>\n",
    "\n",
    "Draw the best tree decision making process. You may use [sklearn.tree.prot_tree](https://scikit-learn.org/stable/modules/generated/sklearn.tree.plot_tree.html).<br>"
   ]
  },
  {
   "cell_type": "code",
   "execution_count": 165,
   "metadata": {},
   "outputs": [
    {
     "data": {
      "text/html": [
       "<div>\n",
       "<style scoped>\n",
       "    .dataframe tbody tr th:only-of-type {\n",
       "        vertical-align: middle;\n",
       "    }\n",
       "\n",
       "    .dataframe tbody tr th {\n",
       "        vertical-align: top;\n",
       "    }\n",
       "\n",
       "    .dataframe thead th {\n",
       "        text-align: right;\n",
       "    }\n",
       "</style>\n",
       "<table border=\"1\" class=\"dataframe\">\n",
       "  <thead>\n",
       "    <tr style=\"text-align: right;\">\n",
       "      <th></th>\n",
       "      <th>Survived</th>\n",
       "      <th>Pclass</th>\n",
       "      <th>Name</th>\n",
       "      <th>Sex</th>\n",
       "      <th>Age</th>\n",
       "      <th>SibSp</th>\n",
       "      <th>Parch</th>\n",
       "      <th>Ticket</th>\n",
       "      <th>Fare</th>\n",
       "      <th>Cabin</th>\n",
       "      <th>Embarked</th>\n",
       "    </tr>\n",
       "    <tr>\n",
       "      <th>PassengerId</th>\n",
       "      <th></th>\n",
       "      <th></th>\n",
       "      <th></th>\n",
       "      <th></th>\n",
       "      <th></th>\n",
       "      <th></th>\n",
       "      <th></th>\n",
       "      <th></th>\n",
       "      <th></th>\n",
       "      <th></th>\n",
       "      <th></th>\n",
       "    </tr>\n",
       "  </thead>\n",
       "  <tbody>\n",
       "    <tr>\n",
       "      <th>1</th>\n",
       "      <td>0</td>\n",
       "      <td>3</td>\n",
       "      <td>Braund, Mr. Owen Harris</td>\n",
       "      <td>male</td>\n",
       "      <td>22.0</td>\n",
       "      <td>1</td>\n",
       "      <td>0</td>\n",
       "      <td>A/5 21171</td>\n",
       "      <td>7.2500</td>\n",
       "      <td>NaN</td>\n",
       "      <td>S</td>\n",
       "    </tr>\n",
       "    <tr>\n",
       "      <th>2</th>\n",
       "      <td>1</td>\n",
       "      <td>1</td>\n",
       "      <td>Cumings, Mrs. John Bradley (Florence Briggs Th...</td>\n",
       "      <td>female</td>\n",
       "      <td>38.0</td>\n",
       "      <td>1</td>\n",
       "      <td>0</td>\n",
       "      <td>PC 17599</td>\n",
       "      <td>71.2833</td>\n",
       "      <td>C85</td>\n",
       "      <td>C</td>\n",
       "    </tr>\n",
       "    <tr>\n",
       "      <th>3</th>\n",
       "      <td>1</td>\n",
       "      <td>3</td>\n",
       "      <td>Heikkinen, Miss. Laina</td>\n",
       "      <td>female</td>\n",
       "      <td>26.0</td>\n",
       "      <td>0</td>\n",
       "      <td>0</td>\n",
       "      <td>STON/O2. 3101282</td>\n",
       "      <td>7.9250</td>\n",
       "      <td>NaN</td>\n",
       "      <td>S</td>\n",
       "    </tr>\n",
       "    <tr>\n",
       "      <th>4</th>\n",
       "      <td>1</td>\n",
       "      <td>1</td>\n",
       "      <td>Futrelle, Mrs. Jacques Heath (Lily May Peel)</td>\n",
       "      <td>female</td>\n",
       "      <td>35.0</td>\n",
       "      <td>1</td>\n",
       "      <td>0</td>\n",
       "      <td>113803</td>\n",
       "      <td>53.1000</td>\n",
       "      <td>C123</td>\n",
       "      <td>S</td>\n",
       "    </tr>\n",
       "    <tr>\n",
       "      <th>5</th>\n",
       "      <td>0</td>\n",
       "      <td>3</td>\n",
       "      <td>Allen, Mr. William Henry</td>\n",
       "      <td>male</td>\n",
       "      <td>35.0</td>\n",
       "      <td>0</td>\n",
       "      <td>0</td>\n",
       "      <td>373450</td>\n",
       "      <td>8.0500</td>\n",
       "      <td>NaN</td>\n",
       "      <td>S</td>\n",
       "    </tr>\n",
       "  </tbody>\n",
       "</table>\n",
       "</div>"
      ],
      "text/plain": [
       "             Survived  Pclass  \\\n",
       "PassengerId                     \n",
       "1                   0       3   \n",
       "2                   1       1   \n",
       "3                   1       3   \n",
       "4                   1       1   \n",
       "5                   0       3   \n",
       "\n",
       "                                                          Name     Sex   Age  \\\n",
       "PassengerId                                                                    \n",
       "1                                      Braund, Mr. Owen Harris    male  22.0   \n",
       "2            Cumings, Mrs. John Bradley (Florence Briggs Th...  female  38.0   \n",
       "3                                       Heikkinen, Miss. Laina  female  26.0   \n",
       "4                 Futrelle, Mrs. Jacques Heath (Lily May Peel)  female  35.0   \n",
       "5                                     Allen, Mr. William Henry    male  35.0   \n",
       "\n",
       "             SibSp  Parch            Ticket     Fare Cabin Embarked  \n",
       "PassengerId                                                          \n",
       "1                1      0         A/5 21171   7.2500   NaN        S  \n",
       "2                1      0          PC 17599  71.2833   C85        C  \n",
       "3                0      0  STON/O2. 3101282   7.9250   NaN        S  \n",
       "4                1      0            113803  53.1000  C123        S  \n",
       "5                0      0            373450   8.0500   NaN        S  "
      ]
     },
     "execution_count": 165,
     "metadata": {},
     "output_type": "execute_result"
    }
   ],
   "source": [
    "import os\n",
    "from sklearn.tree import DecisionTreeClassifier\n",
    "\n",
    "# your code here\n",
    "PATH = \"./data/\"\n",
    "data = pd.read_csv(os.path.join(PATH, 'titanic', 'train.csv')).set_index('PassengerId')\n",
    "data.head()"
   ]
  },
  {
   "cell_type": "code",
   "execution_count": 166,
   "metadata": {},
   "outputs": [],
   "source": [
    "#preprocessing\n",
    "from sklearn import preprocessing\n",
    "\n",
    "data['Age'].fillna(data['Age'].median(), inplace=True)\n",
    "data['Embarked'].fillna(value = 'Q', inplace=True)\n",
    "data = data.dropna(subset=['Age'])\n",
    "data = data.dropna(subset=['Embarked'])\n",
    "data.reset_index()\n",
    "\n",
    "\n",
    "data['Sex'] = data['Sex'].replace(['female'],'1').replace(['male'],'0')\n",
    "data['Embarked'] = data['Embarked'].replace(['C'],'0').replace(['Q'],'1').replace(['S'],'2')\n",
    "\n",
    "## your code\n",
    "data = data.drop(columns=['Cabin', 'Ticket', 'Name'])"
   ]
  },
  {
   "cell_type": "code",
   "execution_count": 167,
   "metadata": {},
   "outputs": [],
   "source": [
    "#split\n",
    "X_train_t, X_test_t, y_train_t, y_test_t = train_test_split(data.drop(columns=['Survived']), data['Survived'], test_size=0.4, random_state=2020)"
   ]
  },
  {
   "cell_type": "code",
   "execution_count": 168,
   "metadata": {},
   "outputs": [],
   "source": [
    "classifier_tit = DecisionTreeClassifier()\n",
    "\n",
    "space_tit = dict()\n",
    "space_tit['splitter'] = ['best', 'random']\n",
    "space_tit['criterion'] = ['gini', 'entropy']\n",
    "space_tit['max_depth'] = list(x for x in range(1, 100))\n",
    "space_tit['min_samples_split'] = list(x for x in range(2, 100))\n",
    "space_tit['min_samples_leaf'] = list(x for x in range(1, 100))\n",
    "#space_tit['min_weight_fraction_leaf'] = list(x for x in range(1, 100))\n",
    "#space_tit['max_leaf_nodes'] = list(x for x in range(1, 100))\n",
    "\n",
    "cv_tit = RepeatedKFold(n_splits=10, n_repeats=3, random_state=2)\n",
    "search_tit = RandomizedSearchCV(classifier_tit, space_tit, n_iter=100, scoring='accuracy', n_jobs=-1, cv=cv_tit, random_state=4201)\n",
    "\n",
    "# cv_rand_tit = RepeatedKFold(n_splits=10, n_repeats=4, random_state=4201)\n",
    "# random_search_tit = RandomizedSearchCV(classifier_tit, cv_rand_tit, n_iter=100, scoring='accuracy', n_jobs=-1, cv=cv_rand, random_state=4201)"
   ]
  },
  {
   "cell_type": "code",
   "execution_count": 169,
   "metadata": {},
   "outputs": [
    {
     "name": "stdout",
     "output_type": "stream",
     "text": [
      "Best Score: 0.8296179827626369\n",
      "Best Hyperparameters: {'splitter': 'random', 'min_samples_split': 72, 'min_samples_leaf': 22, 'max_depth': 72, 'criterion': 'gini'}\n"
     ]
    }
   ],
   "source": [
    "# Your code here\n",
    "result_rand_tit = search_tit.fit(X_train_t, y_train_t)\n",
    "# summarize result\n",
    "print('Best Score: %s' % result_rand_tit.best_score_)\n",
    "print('Best Hyperparameters: %s' % result_rand_tit.best_params_)"
   ]
  },
  {
   "cell_type": "code",
   "execution_count": 156,
   "metadata": {},
   "outputs": [
    {
     "data": {
      "image/png": "[encoded data removed]",
      "text/plain": [
       "<Figure size 864x864 with 1 Axes>"
      ]
     },
     "metadata": {
      "needs_background": "light"
     },
     "output_type": "display_data"
    }
   ],
   "source": [
    "#result classifier\n",
    "from sklearn import tree\n",
    "\n",
    "clf = tree.DecisionTreeClassifier(splitter='random', min_samples_split=60, min_samples_leaf=11, max_depth=55, criterion='gini', random_state=4)\n",
    "clf = clf.fit(X_train_t, y_train_t)\n",
    "\n",
    "#try to plot\n",
    "plt.figure(figsize=(12,12))\n",
    "tree.plot_tree(clf, fontsize=10) \n",
    "plt.show()"
   ]
  },
  {
   "cell_type": "code",
   "execution_count": 159,
   "metadata": {},
   "outputs": [
    {
     "data": {
      "text/html": [
       "<div>\n",
       "<style scoped>\n",
       "    .dataframe tbody tr th:only-of-type {\n",
       "        vertical-align: middle;\n",
       "    }\n",
       "\n",
       "    .dataframe tbody tr th {\n",
       "        vertical-align: top;\n",
       "    }\n",
       "\n",
       "    .dataframe thead th {\n",
       "        text-align: right;\n",
       "    }\n",
       "</style>\n",
       "<table border=\"1\" class=\"dataframe\">\n",
       "  <thead>\n",
       "    <tr style=\"text-align: right;\">\n",
       "      <th></th>\n",
       "      <th>Pclass</th>\n",
       "      <th>Name</th>\n",
       "      <th>Sex</th>\n",
       "      <th>Age</th>\n",
       "      <th>SibSp</th>\n",
       "      <th>Parch</th>\n",
       "      <th>Ticket</th>\n",
       "      <th>Fare</th>\n",
       "      <th>Cabin</th>\n",
       "      <th>Embarked</th>\n",
       "    </tr>\n",
       "    <tr>\n",
       "      <th>PassengerId</th>\n",
       "      <th></th>\n",
       "      <th></th>\n",
       "      <th></th>\n",
       "      <th></th>\n",
       "      <th></th>\n",
       "      <th></th>\n",
       "      <th></th>\n",
       "      <th></th>\n",
       "      <th></th>\n",
       "      <th></th>\n",
       "    </tr>\n",
       "  </thead>\n",
       "  <tbody>\n",
       "    <tr>\n",
       "      <th>709</th>\n",
       "      <td>1</td>\n",
       "      <td>Cleaver, Miss. Alice</td>\n",
       "      <td>female</td>\n",
       "      <td>22.0</td>\n",
       "      <td>0</td>\n",
       "      <td>0</td>\n",
       "      <td>113781</td>\n",
       "      <td>151.5500</td>\n",
       "      <td>NaN</td>\n",
       "      <td>S</td>\n",
       "    </tr>\n",
       "    <tr>\n",
       "      <th>200</th>\n",
       "      <td>2</td>\n",
       "      <td>Yrois, Miss. Henriette (\"Mrs Harbeck\")</td>\n",
       "      <td>female</td>\n",
       "      <td>24.0</td>\n",
       "      <td>0</td>\n",
       "      <td>0</td>\n",
       "      <td>248747</td>\n",
       "      <td>13.0000</td>\n",
       "      <td>NaN</td>\n",
       "      <td>S</td>\n",
       "    </tr>\n",
       "    <tr>\n",
       "      <th>328</th>\n",
       "      <td>2</td>\n",
       "      <td>Ball, Mrs. (Ada E Hall)</td>\n",
       "      <td>female</td>\n",
       "      <td>36.0</td>\n",
       "      <td>0</td>\n",
       "      <td>0</td>\n",
       "      <td>28551</td>\n",
       "      <td>13.0000</td>\n",
       "      <td>D</td>\n",
       "      <td>S</td>\n",
       "    </tr>\n",
       "    <tr>\n",
       "      <th>517</th>\n",
       "      <td>2</td>\n",
       "      <td>Lemore, Mrs. (Amelia Milley)</td>\n",
       "      <td>female</td>\n",
       "      <td>34.0</td>\n",
       "      <td>0</td>\n",
       "      <td>0</td>\n",
       "      <td>C.A. 34260</td>\n",
       "      <td>10.5000</td>\n",
       "      <td>F33</td>\n",
       "      <td>S</td>\n",
       "    </tr>\n",
       "    <tr>\n",
       "      <th>253</th>\n",
       "      <td>1</td>\n",
       "      <td>Stead, Mr. William Thomas</td>\n",
       "      <td>male</td>\n",
       "      <td>62.0</td>\n",
       "      <td>0</td>\n",
       "      <td>0</td>\n",
       "      <td>113514</td>\n",
       "      <td>26.5500</td>\n",
       "      <td>C87</td>\n",
       "      <td>S</td>\n",
       "    </tr>\n",
       "    <tr>\n",
       "      <th>...</th>\n",
       "      <td>...</td>\n",
       "      <td>...</td>\n",
       "      <td>...</td>\n",
       "      <td>...</td>\n",
       "      <td>...</td>\n",
       "      <td>...</td>\n",
       "      <td>...</td>\n",
       "      <td>...</td>\n",
       "      <td>...</td>\n",
       "      <td>...</td>\n",
       "    </tr>\n",
       "    <tr>\n",
       "      <th>442</th>\n",
       "      <td>3</td>\n",
       "      <td>Hampe, Mr. Leon</td>\n",
       "      <td>male</td>\n",
       "      <td>20.0</td>\n",
       "      <td>0</td>\n",
       "      <td>0</td>\n",
       "      <td>345769</td>\n",
       "      <td>9.5000</td>\n",
       "      <td>NaN</td>\n",
       "      <td>S</td>\n",
       "    </tr>\n",
       "    <tr>\n",
       "      <th>349</th>\n",
       "      <td>3</td>\n",
       "      <td>Coutts, Master. William Loch \"William\"</td>\n",
       "      <td>male</td>\n",
       "      <td>3.0</td>\n",
       "      <td>1</td>\n",
       "      <td>1</td>\n",
       "      <td>C.A. 37671</td>\n",
       "      <td>15.9000</td>\n",
       "      <td>NaN</td>\n",
       "      <td>S</td>\n",
       "    </tr>\n",
       "    <tr>\n",
       "      <th>697</th>\n",
       "      <td>3</td>\n",
       "      <td>Kelly, Mr. James</td>\n",
       "      <td>male</td>\n",
       "      <td>44.0</td>\n",
       "      <td>0</td>\n",
       "      <td>0</td>\n",
       "      <td>363592</td>\n",
       "      <td>8.0500</td>\n",
       "      <td>NaN</td>\n",
       "      <td>S</td>\n",
       "    </tr>\n",
       "    <tr>\n",
       "      <th>764</th>\n",
       "      <td>1</td>\n",
       "      <td>Carter, Mrs. William Ernest (Lucile Polk)</td>\n",
       "      <td>female</td>\n",
       "      <td>36.0</td>\n",
       "      <td>1</td>\n",
       "      <td>2</td>\n",
       "      <td>113760</td>\n",
       "      <td>120.0000</td>\n",
       "      <td>B96 B98</td>\n",
       "      <td>S</td>\n",
       "    </tr>\n",
       "    <tr>\n",
       "      <th>553</th>\n",
       "      <td>3</td>\n",
       "      <td>O'Brien, Mr. Timothy</td>\n",
       "      <td>male</td>\n",
       "      <td>NaN</td>\n",
       "      <td>0</td>\n",
       "      <td>0</td>\n",
       "      <td>330979</td>\n",
       "      <td>7.8292</td>\n",
       "      <td>NaN</td>\n",
       "      <td>Q</td>\n",
       "    </tr>\n",
       "  </tbody>\n",
       "</table>\n",
       "<p>357 rows × 10 columns</p>\n",
       "</div>"
      ],
      "text/plain": [
       "             Pclass                                       Name     Sex   Age  \\\n",
       "PassengerId                                                                    \n",
       "709               1                       Cleaver, Miss. Alice  female  22.0   \n",
       "200               2     Yrois, Miss. Henriette (\"Mrs Harbeck\")  female  24.0   \n",
       "328               2                    Ball, Mrs. (Ada E Hall)  female  36.0   \n",
       "517               2               Lemore, Mrs. (Amelia Milley)  female  34.0   \n",
       "253               1                  Stead, Mr. William Thomas    male  62.0   \n",
       "...             ...                                        ...     ...   ...   \n",
       "442               3                            Hampe, Mr. Leon    male  20.0   \n",
       "349               3     Coutts, Master. William Loch \"William\"    male   3.0   \n",
       "697               3                           Kelly, Mr. James    male  44.0   \n",
       "764               1  Carter, Mrs. William Ernest (Lucile Polk)  female  36.0   \n",
       "553               3                       O'Brien, Mr. Timothy    male   NaN   \n",
       "\n",
       "             SibSp  Parch      Ticket      Fare    Cabin Embarked  \n",
       "PassengerId                                                        \n",
       "709              0      0      113781  151.5500      NaN        S  \n",
       "200              0      0      248747   13.0000      NaN        S  \n",
       "328              0      0       28551   13.0000        D        S  \n",
       "517              0      0  C.A. 34260   10.5000      F33        S  \n",
       "253              0      0      113514   26.5500      C87        S  \n",
       "...            ...    ...         ...       ...      ...      ...  \n",
       "442              0      0      345769    9.5000      NaN        S  \n",
       "349              1      1  C.A. 37671   15.9000      NaN        S  \n",
       "697              0      0      363592    8.0500      NaN        S  \n",
       "764              1      2      113760  120.0000  B96 B98        S  \n",
       "553              0      0      330979    7.8292      NaN        Q  \n",
       "\n",
       "[357 rows x 10 columns]"
      ]
     },
     "execution_count": 159,
     "metadata": {},
     "output_type": "execute_result"
    }
   ],
   "source": [
    "X_test"
   ]
  },
  {
   "cell_type": "markdown",
   "metadata": {},
   "source": [
    "Is it easy to interpret its results? Are you able to explain to a random person why would he survive / die on the titanic?"
   ]
  },
  {
   "cell_type": "markdown",
   "metadata": {},
   "source": [
    "### My conclusion"
   ]
  },
  {
   "cell_type": "markdown",
   "metadata": {},
   "source": [
    "Tree was with plot_tree function. In my opinion tree is typical binary tree structure. It's help to undertand split and criteria for each step using X[column] value.   "
   ]
  },
  {
   "cell_type": "markdown",
   "metadata": {},
   "source": [
    "# Homework part 2. RandomForestRegressor"
   ]
  },
  {
   "cell_type": "markdown",
   "metadata": {},
   "source": [
    "**Task 7 (2 points)**. Write your own *DecisionTreeRegressor* class with _MSE_ split criterion and settable parameter *max_depth*. Demonstrate its consistency on the proposed artificial data (or some other) by comparing MSE of train predictions with [sklearn.tree.DecisionTreeRegressor](https://scikit-learn.org/stable/modules/generated/sklearn.tree.DecisionTreeRegressor.html). <br>\n",
    "\n",
    "Provide examples for different _max_depth_ parameter.\n",
    "\n",
    "Of course you may re-use code for *DecisionTreeClassifier*. You need to figure out what needs to be changed in it for Classification -> Regression transformation.<br>\n",
    "\n",
    "**! You are allowed to use only NumPy library** in this assigment."
   ]
  },
  {
   "cell_type": "code",
   "execution_count": 160,
   "metadata": {},
   "outputs": [],
   "source": [
    "import numpy as np\n",
    "\n",
    "def f(X):\n",
    "    return X[:, 0]**3 + np.log(np.exp(X[:, 1]) + np.exp(X[:, 2])) + np.sqrt(abs(X[:, 3])) * X[:, 4]\n",
    "\n",
    "n_samples = 100\n",
    "\n",
    "stdv = 1. / np.sqrt(5)\n",
    "\n",
    "X = np.random.uniform(-stdv, stdv, size = (n_samples, 5))\n",
    "y = f(X)"
   ]
  },
  {
   "cell_type": "code",
   "execution_count": 162,
   "metadata": {},
   "outputs": [
    {
     "data": {
      "text/plain": [
       "array([[ 0.41612478,  0.04782201,  0.38283195, -0.21174355,  0.2524559 ],\n",
       "       [ 0.1579544 ,  0.01445006,  0.33964561,  0.16141323, -0.00307464],\n",
       "       [ 0.2018157 , -0.35080496,  0.16662695,  0.15390863,  0.32997966],\n",
       "       [ 0.31688789, -0.01254785,  0.13935992,  0.11596069, -0.27899714],\n",
       "       [-0.37124893, -0.18722251, -0.09475412, -0.237747  , -0.37934332],\n",
       "       [ 0.43609527,  0.32064271,  0.16663411, -0.23523735,  0.04132103],\n",
       "       [-0.20623811,  0.34082828, -0.29086403, -0.16580562, -0.21829821],\n",
       "       [-0.01821796,  0.26556138, -0.0686403 ,  0.12556028, -0.34197964],\n",
       "       [ 0.29933516,  0.10510597,  0.18217274, -0.31647908, -0.19391699],\n",
       "       [ 0.43288655, -0.12983804,  0.13300448,  0.17249147, -0.0687911 ],\n",
       "       [ 0.31695783, -0.16371729, -0.21638646,  0.44529438, -0.40814288],\n",
       "       [-0.34665129,  0.01816707,  0.04659131,  0.25413442, -0.35452089],\n",
       "       [-0.13543282, -0.41474636,  0.13785616, -0.30977731,  0.20598517],\n",
       "       [ 0.44098791,  0.38688917,  0.17959896,  0.15087759,  0.37907542],\n",
       "       [-0.15899677,  0.26126534, -0.07389186,  0.15589586, -0.1399622 ],\n",
       "       [-0.01858524, -0.42996766,  0.31105019, -0.25879336, -0.26955804],\n",
       "       [-0.24411464,  0.38870243,  0.37062366, -0.31894729, -0.10072918],\n",
       "       [ 0.35235057,  0.32690403, -0.13777724,  0.07787138, -0.06581837],\n",
       "       [-0.41037546,  0.0859882 ,  0.18715485,  0.03955538,  0.34514307],\n",
       "       [ 0.23653928,  0.40099205, -0.23281025,  0.41676378, -0.33718811],\n",
       "       [ 0.22705453, -0.19628375, -0.26009999,  0.10777276, -0.36307713],\n",
       "       [ 0.26939484,  0.36128961,  0.33992454,  0.43582361, -0.3531877 ],\n",
       "       [-0.16154044,  0.19156198,  0.05935389, -0.35739939,  0.37167503],\n",
       "       [ 0.3864663 ,  0.24272877, -0.43382406, -0.30491487,  0.081269  ],\n",
       "       [-0.03772232,  0.42046902,  0.06825619,  0.39108457,  0.24775611],\n",
       "       [ 0.35664118,  0.30835111,  0.29830882, -0.03441319,  0.37545589],\n",
       "       [-0.04582178,  0.03619802,  0.02538916,  0.37334335, -0.02459873],\n",
       "       [ 0.28678313,  0.32865115,  0.04404409, -0.07725925, -0.09717116],\n",
       "       [-0.06805751, -0.00862221, -0.29656498,  0.07462006,  0.07164792],\n",
       "       [ 0.36825051, -0.34487204,  0.41436655,  0.43116297, -0.25394707],\n",
       "       [ 0.26587319,  0.36522501,  0.08682963,  0.2546624 , -0.41035838],\n",
       "       [ 0.36135562, -0.05784658,  0.01373982, -0.31639564, -0.29644148],\n",
       "       [ 0.00628624, -0.29570056,  0.12677802,  0.21941969, -0.30191746],\n",
       "       [ 0.25920092, -0.20603714,  0.29065038,  0.03239393,  0.08342237],\n",
       "       [ 0.3698713 ,  0.37002442,  0.40456055, -0.39770318, -0.4104998 ],\n",
       "       [-0.43265056,  0.05313539,  0.41830587, -0.08174455,  0.25615622],\n",
       "       [ 0.18604957,  0.25377417,  0.43902205, -0.37440831,  0.32357374],\n",
       "       [-0.38632331, -0.10263797, -0.21445184,  0.02125609, -0.11823013],\n",
       "       [-0.13561298, -0.13198785, -0.19321481,  0.26484724,  0.38028795],\n",
       "       [-0.41906698,  0.10989074,  0.20431697, -0.24285622,  0.3292197 ],\n",
       "       [-0.25122628,  0.15518339, -0.23880851,  0.1521025 , -0.13708499],\n",
       "       [ 0.40413003, -0.05266118, -0.12558341,  0.12753255,  0.42155678],\n",
       "       [-0.21226581, -0.39485845,  0.27252953, -0.22939898, -0.10403605],\n",
       "       [ 0.11591119,  0.15311521, -0.08495565, -0.132516  , -0.20613888],\n",
       "       [ 0.36980307, -0.28017041, -0.08549143, -0.29903314,  0.39700412],\n",
       "       [ 0.02887743, -0.29923991, -0.0147411 , -0.17615902,  0.40376167],\n",
       "       [ 0.2548133 ,  0.34823654,  0.40376807, -0.35018739, -0.35485758],\n",
       "       [-0.23660008,  0.43718923,  0.22233864,  0.37742647,  0.11516638],\n",
       "       [ 0.37892004, -0.16052902,  0.05768147,  0.05079438,  0.43136354],\n",
       "       [ 0.41741057,  0.34605232,  0.05608182,  0.21255773, -0.30144169],\n",
       "       [ 0.3402531 , -0.10503565,  0.40256704, -0.34020879, -0.17127225],\n",
       "       [-0.17007178, -0.05166247,  0.22756609, -0.15981018,  0.30925527],\n",
       "       [ 0.34612735,  0.23627777,  0.39131425,  0.04494801, -0.33173153],\n",
       "       [ 0.20345161,  0.03107831,  0.08200855, -0.0409333 ,  0.19077071],\n",
       "       [-0.17550629, -0.21600415, -0.43375872,  0.43746051, -0.03713292],\n",
       "       [-0.33032874, -0.09112761,  0.27770788,  0.24662708, -0.35489186],\n",
       "       [ 0.05841734,  0.32797282, -0.08327054, -0.11519109,  0.37455811],\n",
       "       [-0.20492188, -0.31139808, -0.22378313,  0.41747902, -0.16041212],\n",
       "       [ 0.41982181, -0.25973693,  0.02635546,  0.05222115,  0.39641472],\n",
       "       [ 0.4135638 ,  0.00394857, -0.0571796 , -0.26054834, -0.28303136],\n",
       "       [ 0.11412961, -0.28704351, -0.07893932, -0.16940924, -0.3608849 ],\n",
       "       [ 0.16264522, -0.28997978, -0.14639048, -0.29543131,  0.34016921],\n",
       "       [ 0.19545634,  0.17876309, -0.05612706,  0.07685736,  0.41186752],\n",
       "       [-0.159016  , -0.26658131,  0.29293281, -0.04106054,  0.22485369],\n",
       "       [-0.20999023, -0.14568058, -0.267914  ,  0.28718546,  0.30601974],\n",
       "       [ 0.22853541,  0.35053166, -0.44446347,  0.18092723, -0.15771141],\n",
       "       [ 0.28802148,  0.21359994, -0.44697534,  0.32723396, -0.17830449],\n",
       "       [ 0.15192838, -0.0454724 , -0.42784122,  0.22631517,  0.27881024],\n",
       "       [-0.24080913, -0.02037658,  0.11599872, -0.01715956, -0.23895908],\n",
       "       [-0.33101372, -0.40883691,  0.26385562,  0.01136108,  0.07094157],\n",
       "       [ 0.13806527, -0.35981749, -0.28530658, -0.26245645, -0.27001542],\n",
       "       [-0.18794145, -0.13640089,  0.12199049, -0.33519056, -0.00748034],\n",
       "       [-0.4284528 ,  0.34025995,  0.22309944, -0.38829504,  0.33291047],\n",
       "       [-0.04439172,  0.38666505, -0.03975821,  0.02468143, -0.28739907],\n",
       "       [-0.24942516, -0.34633693,  0.29378103, -0.03350753, -0.0094135 ],\n",
       "       [-0.35763522, -0.0587437 , -0.17835754, -0.18096485,  0.24623655],\n",
       "       [-0.16806283, -0.0366148 ,  0.13030254,  0.31905102, -0.36661993],\n",
       "       [-0.1445884 , -0.29982685, -0.17865926,  0.2408777 , -0.01579478],\n",
       "       [ 0.42124362,  0.03225766, -0.07330707, -0.21181537,  0.42132674],\n",
       "       [ 0.23468427, -0.27064033, -0.06765404,  0.26247441,  0.33351302],\n",
       "       [ 0.07588909,  0.19515785, -0.30679459,  0.36671334, -0.23614364],\n",
       "       [-0.0854581 , -0.36147796,  0.33143423, -0.37117905, -0.24384786],\n",
       "       [-0.16607501,  0.32401919,  0.09873222, -0.39740751,  0.39077381],\n",
       "       [-0.30173018,  0.05674353,  0.18137265,  0.35565859, -0.26155682],\n",
       "       [ 0.01760529, -0.0739161 ,  0.26565872, -0.08705172,  0.18990507],\n",
       "       [-0.13678561, -0.41506148, -0.36946385,  0.11406067,  0.36596693],\n",
       "       [-0.12968956,  0.20211702,  0.02924481,  0.41774299,  0.2838987 ],\n",
       "       [ 0.42899091,  0.25336693, -0.25955481,  0.20067714,  0.01704421],\n",
       "       [-0.2550505 , -0.10844964,  0.19299365,  0.27744008, -0.00254151],\n",
       "       [-0.36584077, -0.39952498, -0.05865421, -0.03034153, -0.23142664],\n",
       "       [-0.21296932,  0.14756353,  0.30863893, -0.0473085 ,  0.15235912],\n",
       "       [ 0.1143252 ,  0.11665258,  0.22775287,  0.280944  , -0.38625448],\n",
       "       [-0.17061812,  0.10543577, -0.07481528, -0.01726943, -0.01332239],\n",
       "       [-0.27686679, -0.30638848,  0.42658862, -0.00497493, -0.2119948 ],\n",
       "       [-0.20153651,  0.18987466, -0.34651257,  0.07597795, -0.19936594],\n",
       "       [ 0.17351687,  0.43121314,  0.04315172, -0.18776834, -0.05929465],\n",
       "       [-0.11188619, -0.33870467,  0.19469785,  0.24770617, -0.31136522],\n",
       "       [-0.36291191, -0.09351434, -0.11417109, -0.15884944,  0.27774928],\n",
       "       [ 0.09111847, -0.42818571,  0.44488705,  0.15541261,  0.34707866],\n",
       "       [-0.22448314, -0.20235144, -0.14381802,  0.24143637, -0.03035987]])"
      ]
     },
     "execution_count": 162,
     "metadata": {},
     "output_type": "execute_result"
    }
   ],
   "source": [
    "# Your code here\n"
   ]
  },
  {
   "cell_type": "markdown",
   "metadata": {},
   "source": [
    "**Task 8 (2 points)**. Write your own _RandomForestRegressor_ class with MSE split criterion and settable parameter _max_depth_.  Demonstrate its consistency on the proposed artificial data (or some other) by comparing MSE of train predictions with [sklearn.ensemble.RandomForestRegressor](https://scikit-learn.org/stable/modules/generated/sklearn.ensemble.RandomForestRegressor.html).<br>\n",
    "\n",
    "Provide examples for different max_depth parameter.<br>\n",
    "\n",
    "**! You are allowed to use only NumPy library** in this assigment."
   ]
  },
  {
   "cell_type": "code",
   "execution_count": 21,
   "metadata": {},
   "outputs": [],
   "source": [
    "# Your code here"
   ]
  },
  {
   "cell_type": "markdown",
   "metadata": {},
   "source": [
    "# Homework part 3 (bonus). Speeding up forest training process"
   ]
  },
  {
   "cell_type": "markdown",
   "metadata": {},
   "source": [
    "**Task 9 (3 points)** Devise a way to speed up training against the default version of our custom _RandomForestClassifier_ or your own _RandomForestRegressor_. You may want use [`joblib`](https://joblib.readthedocs.io/en/latest/) for parallelizing trees training. Provide graphs of time dependences on the number of trees in your _fast_ version with different number of cores / threads used against default one."
   ]
  },
  {
   "cell_type": "code",
   "execution_count": 22,
   "metadata": {},
   "outputs": [],
   "source": [
    "# Your code here"
   ]
  }
 ],
 "metadata": {
  "kernelspec": {
   "display_name": "Python 3",
   "language": "python",
   "name": "python3"
  },
  "language_info": {
   "codemirror_mode": {
    "name": "ipython",
    "version": 3
   },
   "file_extension": ".py",
   "mimetype": "text/x-python",
   "name": "python",
   "nbconvert_exporter": "python",
   "pygments_lexer": "ipython3",
   "version": "3.9.1"
  },
  "toc": {
   "base_numbering": 1,
   "nav_menu": {},
   "number_sections": true,
   "sideBar": true,
   "skip_h1_title": false,
   "title_cell": "Table of Contents",
   "title_sidebar": "Contents",
   "toc_cell": false,
   "toc_position": {
    "height": "calc(100% - 180px)",
    "left": "10px",
    "top": "150px",
    "width": "235px"
   },
   "toc_section_display": true,
   "toc_window_display": true
  }
 },
 "nbformat": 4,
 "nbformat_minor": 4
}
